{
  "nbformat": 4,
  "nbformat_minor": 0,
  "metadata": {
    "colab": {
      "name": "FreshairPython.ipynb",
      "provenance": [],
      "mount_file_id": "1HuNcRRTPEva7sxmfRKuJ2Svd1wSC559j",
      "authorship_tag": "ABX9TyMkamju3eT2sFpeskuVJ9Zg",
      "include_colab_link": true
    },
    "kernelspec": {
      "name": "python3",
      "display_name": "Python 3"
    }
  },
  "cells": [
    {
      "cell_type": "markdown",
      "metadata": {
        "id": "view-in-github",
        "colab_type": "text"
      },
      "source": [
        "<a href=\"https://colab.research.google.com/github/kagankazim/FreshAir/blob/master/FreshairPython.ipynb\" target=\"_parent\"><img src=\"https://colab.research.google.com/assets/colab-badge.svg\" alt=\"Open In Colab\"/></a>"
      ]
    },
    {
      "cell_type": "code",
      "metadata": {
        "id": "5gzG8adf1r-Y",
        "colab_type": "code",
        "colab": {}
      },
      "source": [
        "!pip install geopandas\n"
      ],
      "execution_count": 0,
      "outputs": []
    },
    {
      "cell_type": "markdown",
      "metadata": {
        "id": "Tj_o2vCHJgL2",
        "colab_type": "text"
      },
      "source": [
        "İlk olarak geopandas librarysini ekliyoruz"
      ]
    },
    {
      "cell_type": "code",
      "metadata": {
        "id": "H_RbmqSj1KRc",
        "colab_type": "code",
        "colab": {}
      },
      "source": [
        "import firebase_admin\n",
        "from firebase_admin import credentials\n",
        "from firebase_admin import db\n",
        "import pandas as pd\n",
        "import geopandas as gpd\n",
        "import folium\n",
        "import math\n",
        "from folium import Choropleth, Circle, Marker\n",
        "from folium.plugins import HeatMap, MarkerCluster"
      ],
      "execution_count": 0,
      "outputs": []
    },
    {
      "cell_type": "code",
      "metadata": {
        "id": "ABYKTkwH2889",
        "colab_type": "code",
        "colab": {}
      },
      "source": [
        "cred = credentials.Certificate('/content/drive/My Drive/ColabResource/freshair-491b9-firebase-adminsdk-9w0q4-76684634c1.json')\n",
        "firebase_admin.initialize_app(cred, {\n",
        "    'databaseURL': 'https://freshair-491b9.firebaseio.com/'\n",
        "})\n",
        "\n"
      ],
      "execution_count": 0,
      "outputs": []
    },
    {
      "cell_type": "code",
      "metadata": {
        "id": "oomvGFJU3MQL",
        "colab_type": "code",
        "colab": {}
      },
      "source": [
        "ref = db.reference('airQuality')\n",
        "\n"
      ],
      "execution_count": 0,
      "outputs": []
    },
    {
      "cell_type": "code",
      "metadata": {
        "id": "p-_LaAj1C3iI",
        "colab_type": "code",
        "outputId": "14da7e1f-57ab-4419-ea24-a58e029738cd",
        "colab": {
          "base_uri": "https://localhost:8080/",
          "height": 669
        }
      },
      "source": [
        "dataframe1= pd.DataFrame(ref.get()[20:40])\n",
        "dataframe1"
      ],
      "execution_count": 12,
      "outputs": [
        {
          "output_type": "execute_result",
          "data": {
            "text/html": [
              "<div>\n",
              "<style scoped>\n",
              "    .dataframe tbody tr th:only-of-type {\n",
              "        vertical-align: middle;\n",
              "    }\n",
              "\n",
              "    .dataframe tbody tr th {\n",
              "        vertical-align: top;\n",
              "    }\n",
              "\n",
              "    .dataframe thead th {\n",
              "        text-align: right;\n",
              "    }\n",
              "</style>\n",
              "<table border=\"1\" class=\"dataframe\">\n",
              "  <thead>\n",
              "    <tr style=\"text-align: right;\">\n",
              "      <th></th>\n",
              "      <th>altitude</th>\n",
              "      <th>latitude</th>\n",
              "      <th>longitude</th>\n",
              "      <th>quality</th>\n",
              "    </tr>\n",
              "  </thead>\n",
              "  <tbody>\n",
              "    <tr>\n",
              "      <th>0</th>\n",
              "      <td>0</td>\n",
              "      <td>38.552269</td>\n",
              "      <td>27.048168</td>\n",
              "      <td>40</td>\n",
              "    </tr>\n",
              "    <tr>\n",
              "      <th>1</th>\n",
              "      <td>0</td>\n",
              "      <td>38.552269</td>\n",
              "      <td>27.048168</td>\n",
              "      <td>40</td>\n",
              "    </tr>\n",
              "    <tr>\n",
              "      <th>2</th>\n",
              "      <td>0</td>\n",
              "      <td>38.552269</td>\n",
              "      <td>27.048168</td>\n",
              "      <td>40</td>\n",
              "    </tr>\n",
              "    <tr>\n",
              "      <th>3</th>\n",
              "      <td>0</td>\n",
              "      <td>38.552269</td>\n",
              "      <td>27.048168</td>\n",
              "      <td>40</td>\n",
              "    </tr>\n",
              "    <tr>\n",
              "      <th>4</th>\n",
              "      <td>0</td>\n",
              "      <td>38.552269</td>\n",
              "      <td>27.048168</td>\n",
              "      <td>40</td>\n",
              "    </tr>\n",
              "    <tr>\n",
              "      <th>5</th>\n",
              "      <td>0</td>\n",
              "      <td>38.552269</td>\n",
              "      <td>27.048168</td>\n",
              "      <td>40</td>\n",
              "    </tr>\n",
              "    <tr>\n",
              "      <th>6</th>\n",
              "      <td>0</td>\n",
              "      <td>38.552269</td>\n",
              "      <td>27.048168</td>\n",
              "      <td>40</td>\n",
              "    </tr>\n",
              "    <tr>\n",
              "      <th>7</th>\n",
              "      <td>0</td>\n",
              "      <td>38.552269</td>\n",
              "      <td>27.048168</td>\n",
              "      <td>40</td>\n",
              "    </tr>\n",
              "    <tr>\n",
              "      <th>8</th>\n",
              "      <td>0</td>\n",
              "      <td>38.552269</td>\n",
              "      <td>27.048168</td>\n",
              "      <td>40</td>\n",
              "    </tr>\n",
              "    <tr>\n",
              "      <th>9</th>\n",
              "      <td>0</td>\n",
              "      <td>38.552269</td>\n",
              "      <td>27.048168</td>\n",
              "      <td>40</td>\n",
              "    </tr>\n",
              "    <tr>\n",
              "      <th>10</th>\n",
              "      <td>0</td>\n",
              "      <td>38.552269</td>\n",
              "      <td>27.048168</td>\n",
              "      <td>40</td>\n",
              "    </tr>\n",
              "    <tr>\n",
              "      <th>11</th>\n",
              "      <td>0</td>\n",
              "      <td>38.552269</td>\n",
              "      <td>27.048168</td>\n",
              "      <td>40</td>\n",
              "    </tr>\n",
              "    <tr>\n",
              "      <th>12</th>\n",
              "      <td>0</td>\n",
              "      <td>38.552269</td>\n",
              "      <td>27.048168</td>\n",
              "      <td>40</td>\n",
              "    </tr>\n",
              "    <tr>\n",
              "      <th>13</th>\n",
              "      <td>0</td>\n",
              "      <td>38.552269</td>\n",
              "      <td>27.048168</td>\n",
              "      <td>40</td>\n",
              "    </tr>\n",
              "    <tr>\n",
              "      <th>14</th>\n",
              "      <td>0</td>\n",
              "      <td>38.552269</td>\n",
              "      <td>27.048168</td>\n",
              "      <td>40</td>\n",
              "    </tr>\n",
              "    <tr>\n",
              "      <th>15</th>\n",
              "      <td>0</td>\n",
              "      <td>38.552269</td>\n",
              "      <td>27.048168</td>\n",
              "      <td>40</td>\n",
              "    </tr>\n",
              "    <tr>\n",
              "      <th>16</th>\n",
              "      <td>0</td>\n",
              "      <td>38.552269</td>\n",
              "      <td>27.048168</td>\n",
              "      <td>40</td>\n",
              "    </tr>\n",
              "    <tr>\n",
              "      <th>17</th>\n",
              "      <td>0</td>\n",
              "      <td>38.552269</td>\n",
              "      <td>27.048168</td>\n",
              "      <td>40</td>\n",
              "    </tr>\n",
              "    <tr>\n",
              "      <th>18</th>\n",
              "      <td>0</td>\n",
              "      <td>38.552269</td>\n",
              "      <td>27.048168</td>\n",
              "      <td>40</td>\n",
              "    </tr>\n",
              "    <tr>\n",
              "      <th>19</th>\n",
              "      <td>0</td>\n",
              "      <td>38.552269</td>\n",
              "      <td>27.048168</td>\n",
              "      <td>40</td>\n",
              "    </tr>\n",
              "  </tbody>\n",
              "</table>\n",
              "</div>"
            ],
            "text/plain": [
              "    altitude   latitude  longitude  quality\n",
              "0          0  38.552269  27.048168       40\n",
              "1          0  38.552269  27.048168       40\n",
              "2          0  38.552269  27.048168       40\n",
              "3          0  38.552269  27.048168       40\n",
              "4          0  38.552269  27.048168       40\n",
              "5          0  38.552269  27.048168       40\n",
              "6          0  38.552269  27.048168       40\n",
              "7          0  38.552269  27.048168       40\n",
              "8          0  38.552269  27.048168       40\n",
              "9          0  38.552269  27.048168       40\n",
              "10         0  38.552269  27.048168       40\n",
              "11         0  38.552269  27.048168       40\n",
              "12         0  38.552269  27.048168       40\n",
              "13         0  38.552269  27.048168       40\n",
              "14         0  38.552269  27.048168       40\n",
              "15         0  38.552269  27.048168       40\n",
              "16         0  38.552269  27.048168       40\n",
              "17         0  38.552269  27.048168       40\n",
              "18         0  38.552269  27.048168       40\n",
              "19         0  38.552269  27.048168       40"
            ]
          },
          "metadata": {
            "tags": []
          },
          "execution_count": 12
        }
      ]
    },
    {
      "cell_type": "code",
      "metadata": {
        "id": "6uAU5x4zBmlw",
        "colab_type": "code",
        "outputId": "2646cf03-9c57-416e-cbaf-b508a9619543",
        "colab": {
          "base_uri": "https://localhost:8080/",
          "height": 102
        }
      },
      "source": [
        "dataframe1.dtypes"
      ],
      "execution_count": 13,
      "outputs": [
        {
          "output_type": "execute_result",
          "data": {
            "text/plain": [
              "altitude       int64\n",
              "latitude     float64\n",
              "longitude    float64\n",
              "quality        int64\n",
              "dtype: object"
            ]
          },
          "metadata": {
            "tags": []
          },
          "execution_count": 13
        }
      ]
    },
    {
      "cell_type": "code",
      "metadata": {
        "id": "-F1wgvuE3rpY",
        "colab_type": "code",
        "colab": {}
      },
      "source": [
        "m=folium.Map(location=[38.7996, 26.9707],tiles=\"openstreetmap\",zoom_start=10)"
      ],
      "execution_count": 0,
      "outputs": []
    },
    {
      "cell_type": "code",
      "metadata": {
        "id": "Lo6NBZvR5w49",
        "colab_type": "code",
        "colab": {}
      },
      "source": [
        "for idx, row in dataframe1.iterrows():\n",
        "    Marker([row['latitude'], row['longitude']]).add_to(m)\n",
        "    \n"
      ],
      "execution_count": 0,
      "outputs": []
    },
    {
      "cell_type": "code",
      "metadata": {
        "id": "zuvvcF9R4yxh",
        "colab_type": "code",
        "outputId": "9cbf8da1-5a6c-4fd5-de5e-e81177303163",
        "colab": {
          "base_uri": "https://localhost:8080/",
          "height": 915
        }
      },
      "source": [
        "m"
      ],
      "execution_count": 16,
      "outputs": [
        {
          "output_type": "execute_result",
          "data": {
            "text/html": [
              "<div style=\"width:100%;\"><div style=\"position:relative;width:100%;height:0;padding-bottom:60%;\"><iframe src=\"about:blank\" style=\"position:absolute;width:100%;height:100%;left:0;top:0;border:none !important;\" data-html=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 onload=\"this.contentDocument.open();this.contentDocument.write(atob(this.getAttribute('data-html')));this.contentDocument.close();\" allowfullscreen webkitallowfullscreen mozallowfullscreen></iframe></div></div>"
            ],
            "text/plain": [
              "<folium.folium.Map at 0x7faf470f8908>"
            ]
          },
          "metadata": {
            "tags": []
          },
          "execution_count": 16
        }
      ]
    },
    {
      "cell_type": "code",
      "metadata": {
        "id": "eNoDCFra40UG",
        "colab_type": "code",
        "colab": {}
      },
      "source": [
        ""
      ],
      "execution_count": 0,
      "outputs": []
    }
  ]
}