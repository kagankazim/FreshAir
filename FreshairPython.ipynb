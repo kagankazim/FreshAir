{
  "nbformat": 4,
  "nbformat_minor": 0,
  "metadata": {
    "colab": {
      "name": "FreshairPython.ipynb",
      "provenance": [],
      "authorship_tag": "ABX9TyPREpA3HoEWBGGMwW3bmVdJ",
      "include_colab_link": true
    },
    "kernelspec": {
      "name": "python3",
      "display_name": "Python 3"
    }
  },
  "cells": [
    {
      "cell_type": "markdown",
      "metadata": {
        "id": "view-in-github",
        "colab_type": "text"
      },
      "source": [
        "<a href=\"https://colab.research.google.com/github/kagankazim/FreshAir/blob/master/FreshairPython.ipynb\" target=\"_parent\"><img src=\"https://colab.research.google.com/assets/colab-badge.svg\" alt=\"Open In Colab\"/></a>"
      ]
    },
    {
      "cell_type": "code",
      "metadata": {
        "id": "5gzG8adf1r-Y",
        "colab_type": "code",
        "colab": {
          "base_uri": "https://localhost:8080/",
          "height": 279
        },
        "outputId": "958a19a5-cdf3-48b4-d9a5-a874f509a9fb"
      },
      "source": [
        "!pip install geopandas\n"
      ],
      "execution_count": 24,
      "outputs": [
        {
          "output_type": "stream",
          "text": [
            "Requirement already satisfied: geopandas in /usr/local/lib/python3.6/dist-packages (0.7.0)\n",
            "Requirement already satisfied: pyproj>=2.2.0 in /usr/local/lib/python3.6/dist-packages (from geopandas) (2.6.0)\n",
            "Requirement already satisfied: shapely in /usr/local/lib/python3.6/dist-packages (from geopandas) (1.7.0)\n",
            "Requirement already satisfied: pandas>=0.23.0 in /usr/local/lib/python3.6/dist-packages (from geopandas) (1.0.3)\n",
            "Requirement already satisfied: fiona in /usr/local/lib/python3.6/dist-packages (from geopandas) (1.8.13.post1)\n",
            "Requirement already satisfied: pytz>=2017.2 in /usr/local/lib/python3.6/dist-packages (from pandas>=0.23.0->geopandas) (2018.9)\n",
            "Requirement already satisfied: numpy>=1.13.3 in /usr/local/lib/python3.6/dist-packages (from pandas>=0.23.0->geopandas) (1.18.3)\n",
            "Requirement already satisfied: python-dateutil>=2.6.1 in /usr/local/lib/python3.6/dist-packages (from pandas>=0.23.0->geopandas) (2.8.1)\n",
            "Requirement already satisfied: click-plugins>=1.0 in /usr/local/lib/python3.6/dist-packages (from fiona->geopandas) (1.1.1)\n",
            "Requirement already satisfied: attrs>=17 in /usr/local/lib/python3.6/dist-packages (from fiona->geopandas) (19.3.0)\n",
            "Requirement already satisfied: six>=1.7 in /usr/local/lib/python3.6/dist-packages (from fiona->geopandas) (1.12.0)\n",
            "Requirement already satisfied: cligj>=0.5 in /usr/local/lib/python3.6/dist-packages (from fiona->geopandas) (0.5.0)\n",
            "Requirement already satisfied: munch in /usr/local/lib/python3.6/dist-packages (from fiona->geopandas) (2.5.0)\n",
            "Requirement already satisfied: click<8,>=4.0 in /usr/local/lib/python3.6/dist-packages (from fiona->geopandas) (7.1.1)\n"
          ],
          "name": "stdout"
        }
      ]
    },
    {
      "cell_type": "markdown",
      "metadata": {
        "id": "Tj_o2vCHJgL2",
        "colab_type": "text"
      },
      "source": [
        "İlk olarak geopandas librarysini ekliyoruz"
      ]
    },
    {
      "cell_type": "code",
      "metadata": {
        "id": "H_RbmqSj1KRc",
        "colab_type": "code",
        "colab": {}
      },
      "source": [
        "import firebase_admin\n",
        "from firebase_admin import credentials\n",
        "from firebase_admin import db\n",
        "import pandas as pd\n",
        "import geopandas as gpd\n",
        "import folium\n",
        "import math\n",
        "from folium import Choropleth, Circle, Marker\n",
        "from folium.plugins import HeatMap, MarkerCluster"
      ],
      "execution_count": 0,
      "outputs": []
    },
    {
      "cell_type": "code",
      "metadata": {
        "id": "UsBaECSYJlyE",
        "colab_type": "code",
        "colab": {}
      },
      "source": [
        ""
      ],
      "execution_count": 0,
      "outputs": []
    },
    {
      "cell_type": "markdown",
      "metadata": {
        "id": "HT3T7NUNJmPT",
        "colab_type": "text"
      },
      "source": [
        ""
      ]
    },
    {
      "cell_type": "code",
      "metadata": {
        "id": "ABYKTkwH2889",
        "colab_type": "code",
        "colab": {}
      },
      "source": [
        "cred = credentials.Certificate('freshair-491b9-firebase-adminsdk-9w0q4-76684634c1.json')\n",
        "firebase_admin.initialize_app(cred, {\n",
        "    'databaseURL': 'https://freshair-491b9.firebaseio.com/'\n",
        "})\n",
        "\n"
      ],
      "execution_count": 0,
      "outputs": []
    },
    {
      "cell_type": "code",
      "metadata": {
        "id": "oomvGFJU3MQL",
        "colab_type": "code",
        "colab": {}
      },
      "source": [
        "ref = db.reference('airQuality')\n",
        "\n"
      ],
      "execution_count": 0,
      "outputs": []
    },
    {
      "cell_type": "code",
      "metadata": {
        "id": "p-_LaAj1C3iI",
        "colab_type": "code",
        "outputId": "14f4bbe3-3b30-4596-de1e-d86851990b18",
        "colab": {
          "base_uri": "https://localhost:8080/",
          "height": 669
        }
      },
      "source": [
        "dataframe1= pd.DataFrame(ref.get()[0:20])\n",
        "dataframe1"
      ],
      "execution_count": 0,
      "outputs": [
        {
          "output_type": "execute_result",
          "data": {
            "text/html": [
              "<div>\n",
              "<style scoped>\n",
              "    .dataframe tbody tr th:only-of-type {\n",
              "        vertical-align: middle;\n",
              "    }\n",
              "\n",
              "    .dataframe tbody tr th {\n",
              "        vertical-align: top;\n",
              "    }\n",
              "\n",
              "    .dataframe thead th {\n",
              "        text-align: right;\n",
              "    }\n",
              "</style>\n",
              "<table border=\"1\" class=\"dataframe\">\n",
              "  <thead>\n",
              "    <tr style=\"text-align: right;\">\n",
              "      <th></th>\n",
              "      <th>altitude</th>\n",
              "      <th>latitude</th>\n",
              "      <th>longitude</th>\n",
              "      <th>quality</th>\n",
              "    </tr>\n",
              "  </thead>\n",
              "  <tbody>\n",
              "    <tr>\n",
              "      <th>0</th>\n",
              "      <td>0</td>\n",
              "      <td>38.552269</td>\n",
              "      <td>27.048168</td>\n",
              "      <td>40</td>\n",
              "    </tr>\n",
              "    <tr>\n",
              "      <th>1</th>\n",
              "      <td>0</td>\n",
              "      <td>38.552269</td>\n",
              "      <td>27.048168</td>\n",
              "      <td>40</td>\n",
              "    </tr>\n",
              "    <tr>\n",
              "      <th>2</th>\n",
              "      <td>0</td>\n",
              "      <td>38.552269</td>\n",
              "      <td>27.048168</td>\n",
              "      <td>40</td>\n",
              "    </tr>\n",
              "    <tr>\n",
              "      <th>3</th>\n",
              "      <td>0</td>\n",
              "      <td>38.552269</td>\n",
              "      <td>27.048168</td>\n",
              "      <td>40</td>\n",
              "    </tr>\n",
              "    <tr>\n",
              "      <th>4</th>\n",
              "      <td>0</td>\n",
              "      <td>38.552269</td>\n",
              "      <td>27.048168</td>\n",
              "      <td>40</td>\n",
              "    </tr>\n",
              "    <tr>\n",
              "      <th>5</th>\n",
              "      <td>0</td>\n",
              "      <td>38.552269</td>\n",
              "      <td>27.048168</td>\n",
              "      <td>40</td>\n",
              "    </tr>\n",
              "    <tr>\n",
              "      <th>6</th>\n",
              "      <td>0</td>\n",
              "      <td>38.552269</td>\n",
              "      <td>27.048168</td>\n",
              "      <td>40</td>\n",
              "    </tr>\n",
              "    <tr>\n",
              "      <th>7</th>\n",
              "      <td>0</td>\n",
              "      <td>38.552269</td>\n",
              "      <td>27.048168</td>\n",
              "      <td>40</td>\n",
              "    </tr>\n",
              "    <tr>\n",
              "      <th>8</th>\n",
              "      <td>0</td>\n",
              "      <td>38.552269</td>\n",
              "      <td>27.048168</td>\n",
              "      <td>40</td>\n",
              "    </tr>\n",
              "    <tr>\n",
              "      <th>9</th>\n",
              "      <td>0</td>\n",
              "      <td>38.552269</td>\n",
              "      <td>27.048168</td>\n",
              "      <td>40</td>\n",
              "    </tr>\n",
              "    <tr>\n",
              "      <th>10</th>\n",
              "      <td>0</td>\n",
              "      <td>38.552269</td>\n",
              "      <td>27.048168</td>\n",
              "      <td>40</td>\n",
              "    </tr>\n",
              "    <tr>\n",
              "      <th>11</th>\n",
              "      <td>0</td>\n",
              "      <td>38.552269</td>\n",
              "      <td>27.048168</td>\n",
              "      <td>40</td>\n",
              "    </tr>\n",
              "    <tr>\n",
              "      <th>12</th>\n",
              "      <td>0</td>\n",
              "      <td>38.552269</td>\n",
              "      <td>27.048168</td>\n",
              "      <td>40</td>\n",
              "    </tr>\n",
              "    <tr>\n",
              "      <th>13</th>\n",
              "      <td>0</td>\n",
              "      <td>38.552269</td>\n",
              "      <td>27.048168</td>\n",
              "      <td>40</td>\n",
              "    </tr>\n",
              "    <tr>\n",
              "      <th>14</th>\n",
              "      <td>0</td>\n",
              "      <td>38.552269</td>\n",
              "      <td>27.048168</td>\n",
              "      <td>40</td>\n",
              "    </tr>\n",
              "    <tr>\n",
              "      <th>15</th>\n",
              "      <td>0</td>\n",
              "      <td>38.552269</td>\n",
              "      <td>27.048168</td>\n",
              "      <td>40</td>\n",
              "    </tr>\n",
              "    <tr>\n",
              "      <th>16</th>\n",
              "      <td>0</td>\n",
              "      <td>38.552269</td>\n",
              "      <td>27.048168</td>\n",
              "      <td>40</td>\n",
              "    </tr>\n",
              "    <tr>\n",
              "      <th>17</th>\n",
              "      <td>0</td>\n",
              "      <td>38.552269</td>\n",
              "      <td>27.048168</td>\n",
              "      <td>40</td>\n",
              "    </tr>\n",
              "    <tr>\n",
              "      <th>18</th>\n",
              "      <td>0</td>\n",
              "      <td>38.552269</td>\n",
              "      <td>27.048168</td>\n",
              "      <td>40</td>\n",
              "    </tr>\n",
              "    <tr>\n",
              "      <th>19</th>\n",
              "      <td>0</td>\n",
              "      <td>38.552269</td>\n",
              "      <td>27.048168</td>\n",
              "      <td>40</td>\n",
              "    </tr>\n",
              "  </tbody>\n",
              "</table>\n",
              "</div>"
            ],
            "text/plain": [
              "    altitude   latitude  longitude  quality\n",
              "0          0  38.552269  27.048168       40\n",
              "1          0  38.552269  27.048168       40\n",
              "2          0  38.552269  27.048168       40\n",
              "3          0  38.552269  27.048168       40\n",
              "4          0  38.552269  27.048168       40\n",
              "5          0  38.552269  27.048168       40\n",
              "6          0  38.552269  27.048168       40\n",
              "7          0  38.552269  27.048168       40\n",
              "8          0  38.552269  27.048168       40\n",
              "9          0  38.552269  27.048168       40\n",
              "10         0  38.552269  27.048168       40\n",
              "11         0  38.552269  27.048168       40\n",
              "12         0  38.552269  27.048168       40\n",
              "13         0  38.552269  27.048168       40\n",
              "14         0  38.552269  27.048168       40\n",
              "15         0  38.552269  27.048168       40\n",
              "16         0  38.552269  27.048168       40\n",
              "17         0  38.552269  27.048168       40\n",
              "18         0  38.552269  27.048168       40\n",
              "19         0  38.552269  27.048168       40"
            ]
          },
          "metadata": {
            "tags": []
          },
          "execution_count": 9
        }
      ]
    },
    {
      "cell_type": "code",
      "metadata": {
        "id": "6uAU5x4zBmlw",
        "colab_type": "code",
        "outputId": "719b7c90-97ba-43d8-93af-3d4edbd26cc3",
        "colab": {
          "base_uri": "https://localhost:8080/",
          "height": 102
        }
      },
      "source": [
        "dataframe1.dtypes"
      ],
      "execution_count": 0,
      "outputs": [
        {
          "output_type": "execute_result",
          "data": {
            "text/plain": [
              "altitude       int64\n",
              "latitude     float64\n",
              "longitude    float64\n",
              "quality        int64\n",
              "dtype: object"
            ]
          },
          "metadata": {
            "tags": []
          },
          "execution_count": 19
        }
      ]
    },
    {
      "cell_type": "code",
      "metadata": {
        "id": "-F1wgvuE3rpY",
        "colab_type": "code",
        "colab": {}
      },
      "source": [
        "m=folium.Map(location=[38.7996, 26.9707],tiles=\"openstreetmap\",zoom_start=10)"
      ],
      "execution_count": 0,
      "outputs": []
    },
    {
      "cell_type": "code",
      "metadata": {
        "id": "Lo6NBZvR5w49",
        "colab_type": "code",
        "colab": {}
      },
      "source": [
        "for idx, row in dataframe1.iterrows():\n",
        "    Marker([row['latitude'], row['longitude']]).add_to(m)\n",
        "    \n"
      ],
      "execution_count": 0,
      "outputs": []
    },
    {
      "cell_type": "code",
      "metadata": {
        "id": "zuvvcF9R4yxh",
        "colab_type": "code",
        "outputId": "9d6764b1-a2f7-43f0-c815-3b40c050b646",
        "colab": {
          "base_uri": "https://localhost:8080/",
          "height": 564
        }
      },
      "source": [
        "m"
      ],
      "execution_count": 0,
      "outputs": [
        {
          "output_type": "execute_result",
          "data": {
            "text/html": [
              "<div style=\"width:100%;\"><div style=\"position:relative;width:100%;height:0;padding-bottom:60%;\"><iframe src=\"about:blank\" style=\"position:absolute;width:100%;height:100%;left:0;top:0;border:none !important;\" data-html=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 onload=\"this.contentDocument.open();this.contentDocument.write(atob(this.getAttribute('data-html')));this.contentDocument.close();\" allowfullscreen webkitallowfullscreen mozallowfullscreen></iframe></div></div>"
            ],
            "text/plain": [
              "<folium.folium.Map at 0x7f1a47bf1978>"
            ]
          },
          "metadata": {
            "tags": []
          },
          "execution_count": 23
        }
      ]
    },
    {
      "cell_type": "code",
      "metadata": {
        "id": "eNoDCFra40UG",
        "colab_type": "code",
        "colab": {}
      },
      "source": [
        ""
      ],
      "execution_count": 0,
      "outputs": []
    }
  ]
}